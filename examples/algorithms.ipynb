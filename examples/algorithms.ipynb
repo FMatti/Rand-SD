{
 "cells": [
  {
   "cell_type": "markdown",
   "metadata": {},
   "source": [
    "# Algorithms"
   ]
  },
  {
   "cell_type": "markdown",
   "metadata": {},
   "source": [
    "This notebooks runs each of the algorithms separately on the example matrix."
   ]
  },
  {
   "cell_type": "markdown",
   "metadata": {},
   "source": [
    "### Import some global dependencies"
   ]
  },
  {
   "cell_type": "code",
   "execution_count": null,
   "metadata": {},
   "outputs": [],
   "source": [
    "import __context__\n",
    "\n",
    "import numpy as np\n",
    "import matplotlib.pyplot as plt"
   ]
  },
  {
   "cell_type": "markdown",
   "metadata": {},
   "source": [
    "### Define matrix and parameters"
   ]
  },
  {
   "cell_type": "markdown",
   "metadata": {},
   "source": [
    "We use a finite difference discretization of the following model problem from density function theory\n",
    "\n",
    "$$\n",
    "\\mathcal{A} u(\\boldsymbol{x}) = - \\Delta u(\\boldsymbol{x}) + V(\\boldsymbol{x}) u(\\boldsymbol{x}),\n",
    "$$\n",
    "\n",
    "to generate our example matrix $\\boldsymbol{A}$, where $V$ consists of periodic Gaussian wells."
   ]
  },
  {
   "cell_type": "code",
   "execution_count": null,
   "metadata": {},
   "outputs": [],
   "source": [
    "from src.matrices import ModES3D\n",
    "from src.utils import spectral_transformation\n",
    "\n",
    "# Generate matrix\n",
    "A = ModES3D(n=1, L=6, h=0.6, dim=3, bc=\"periodic\", beta=2, alpha=-4)\n",
    "\n",
    "a = -5  # lower than smallest eigenvalue\n",
    "b = 35  # higher than largest eigenvalue\n",
    "\n",
    "# Set the parameters for the algorithms\n",
    "n_t = 200\n",
    "t = np.linspace(a, b, n_t)\n",
    "sigma = 0.05\n",
    "m = 2000\n",
    "n_v = 80"
   ]
  },
  {
   "cell_type": "markdown",
   "metadata": {},
   "source": [
    "### Do spectral transformations"
   ]
  },
  {
   "cell_type": "markdown",
   "metadata": {},
   "source": [
    "<div class=\"alert alert-block alert-warning\">\n",
    "<b>Warning:</b> The algorithms will only work for matrices which have eigenvalues within [-1, 1]. Therefore, we need to apply a spectral transformation to the matrix first.\n",
    "</div>"
   ]
  },
  {
   "cell_type": "code",
   "execution_count": null,
   "metadata": {},
   "outputs": [],
   "source": [
    "A_transformed = spectral_transformation(A, a, b)\n",
    "t_transformed = spectral_transformation(t, a, b)\n",
    "scaling_factor = (2 / (b - a))\n",
    "sigma_transformed = sigma * scaling_factor"
   ]
  },
  {
   "cell_type": "markdown",
   "metadata": {},
   "source": [
    "### Delta-Gauss-Chebyshev algorithm"
   ]
  },
  {
   "cell_type": "markdown",
   "metadata": {},
   "source": [
    "We directly estimate the trace using the Hutchinson's trace estimator with a standard Gaussian random matrix $\\boldsymbol{\\Psi} \\in \\mathbb{R}^{n \\times n_{\\Psi}}$ to obtain\n",
    "\n",
    "$$\n",
    "\\phi_{\\sigma}(t) \\approx \\widetilde \\phi_{\\sigma}^{(m)}(t) = \\frac{1}{n_{\\Psi}} \\sum_{l=0}^{m} \\mu_l(t) \\mathrm{Tr}(\\boldsymbol{\\Psi}^{\\top} T_l(\\boldsymbol{A}) \\boldsymbol{\\Psi}).\n",
    "$$"
   ]
  },
  {
   "cell_type": "code",
   "execution_count": null,
   "metadata": {},
   "outputs": [],
   "source": [
    "from src.algorithms import DGC\n",
    "from src.kernel import gaussian_kernel\n",
    "\n",
    "spectral_density_transformed = DGC(A_transformed, t_transformed, m, sigma_transformed, n_v, kernel=gaussian_kernel)\n",
    "spectral_density = scaling_factor * spectral_density_transformed\n",
    "\n",
    "plt.figure(figsize=(6, 2))\n",
    "plt.xlim([a, b])\n",
    "plt.ylabel(r\"$\\widetilde{\\phi}_{\\sigma}^{(m)}$\")\n",
    "plt.xlabel(r\"$t$\")\n",
    "plt.plot(t, spectral_density, linewidth=1, color=\"#2f455c\")\n",
    "plt.show()"
   ]
  },
  {
   "cell_type": "markdown",
   "metadata": {},
   "source": [
    "### Nyström-Chebyshev algorithm"
   ]
  },
  {
   "cell_type": "markdown",
   "metadata": {},
   "source": [
    "We compute the Nyström approximation with a standard Gaussian sketching matrix $\\boldsymbol{\\Omega} \\in \\mathbb{R}^{n \\times n_{\\Omega}}$\n",
    "\n",
    "$$\n",
    "g_{\\sigma}(t\\boldsymbol{I}- \\boldsymbol{A}) \\approx \\widehat g_{\\sigma}^{(m)}(t\\boldsymbol{I}- \\boldsymbol{A}) =\n",
    "(g_{\\sigma}^{(m)}(t\\boldsymbol{I}- \\boldsymbol{A}) \\boldsymbol{\\Omega})(\\boldsymbol{\\Omega}^{\\top} g_{\\sigma}^{(m)}(t\\boldsymbol{I}- \\boldsymbol{A}) \\boldsymbol{\\Omega})(g_{\\sigma}^{(m)}(t\\boldsymbol{I}- \\boldsymbol{A}) \\boldsymbol{\\Omega})^{\\top}\n",
    "$$\n",
    "\n",
    "and compute its trace\n",
    "\n",
    "$$\n",
    "\\phi_{\\sigma}(t) \\approx \\widehat \\phi_{\\sigma}^{(m)}(t) = \\mathrm{Tr}(\\widehat{g}_{\\sigma}^{(m)}(t\\boldsymbol{I}- \\boldsymbol{A})).\n",
    "$$"
   ]
  },
  {
   "cell_type": "code",
   "execution_count": null,
   "metadata": {},
   "outputs": [],
   "source": [
    "from src.algorithms import NC\n",
    "from src.kernel import gaussian_kernel\n",
    "\n",
    "spectral_density_transformed = NC(A_transformed, t_transformed, m, sigma_transformed, n_v, kernel=gaussian_kernel)\n",
    "spectral_density = scaling_factor * spectral_density_transformed\n",
    "\n",
    "plt.figure(figsize=(6, 2))\n",
    "plt.xlim([a, b])\n",
    "plt.ylabel(r\"$\\widehat{\\phi}_{\\sigma}^{(m)}$\")\n",
    "plt.xlabel(r\"$t$\")\n",
    "plt.plot(t, spectral_density, linewidth=1, color=\"#2f455c\")\n",
    "plt.show()"
   ]
  },
  {
   "cell_type": "markdown",
   "metadata": {},
   "source": [
    "### Nyström-Chebyshev++ algorithm"
   ]
  },
  {
   "cell_type": "markdown",
   "metadata": {},
   "source": [
    "We compute the Nyström approximation and apply the Hutchinson's to the residual of the approximation to get the trace \n",
    "\n",
    "$$\n",
    "\\phi_{\\sigma}(t) \\approx \\breve \\phi_{\\sigma}^{(m)}(t) = \\mathrm{Tr}(\\widehat g_{\\sigma}^{(m)}(t\\boldsymbol{I} - \\boldsymbol{A})) + \\frac{1}{n_{\\Psi}} \\mathrm{Tr}(\\boldsymbol{\\Psi}^{\\top} (g_{\\sigma}^{(m)}(t\\boldsymbol{I}- \\boldsymbol{A}) - \\widehat g_{\\sigma}^{(m)}(t\\boldsymbol{I} - \\boldsymbol{A})) \\boldsymbol{\\Psi}).\n",
    "$$"
   ]
  },
  {
   "cell_type": "code",
   "execution_count": null,
   "metadata": {},
   "outputs": [],
   "source": [
    "from src.algorithms import NCPP\n",
    "from src.kernel import gaussian_kernel\n",
    "\n",
    "spectral_density_transformed = NCPP(A_transformed, t_transformed, m, sigma_transformed, n_v, kernel=gaussian_kernel)\n",
    "spectral_density = scaling_factor * spectral_density_transformed\n",
    "\n",
    "plt.figure(figsize=(6, 2))\n",
    "plt.xlim([a, b])\n",
    "plt.ylabel(r\"$\\breve{\\phi}_{\\sigma}^{(m)}$\")\n",
    "plt.xlabel(r\"$t$\")\n",
    "plt.plot(t, spectral_density, linewidth=1, color=\"#2f455c\")\n",
    "plt.show()"
   ]
  }
 ],
 "metadata": {
  "kernelspec": {
   "display_name": ".venv",
   "language": "python",
   "name": "python3"
  },
  "language_info": {
   "codemirror_mode": {
    "name": "ipython",
    "version": 3
   },
   "file_extension": ".py",
   "mimetype": "text/x-python",
   "name": "python",
   "nbconvert_exporter": "python",
   "pygments_lexer": "ipython3",
   "version": "3.11.2"
  }
 },
 "nbformat": 4,
 "nbformat_minor": 2
}
